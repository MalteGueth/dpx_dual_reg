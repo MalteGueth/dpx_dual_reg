{
 "cells": [
  {
   "cell_type": "code",
   "execution_count": 1,
   "metadata": {},
   "outputs": [],
   "source": [
    "##### Pre-processing with subject loops\n",
    "\n",
    "import glob\n",
    "import os\n",
    "\n",
    "import mne\n",
    "from mne.preprocessing import ICA\n",
    "\n",
    "# Define montage used in the experiment\n",
    "chanlocs = mne.channels.read_montage(kind='biosemi64')"
   ]
  },
  {
   "cell_type": "code",
   "execution_count": null,
   "metadata": {},
   "outputs": [],
   "source": [
    "%%capture\n",
    "# Set up subject loop to perform the following steps\n",
    "# for pre-processing: band-pass filtering, re-referencing,\n",
    "# and ICA\n",
    "\n",
    "path = './rawdata'\n",
    "for file in glob.glob(os.path.join(path, '*.bdf')):\n",
    "    \n",
    "    # Note the file details\n",
    "    filepath, filename = os.path.split(file)\n",
    "    filename, ext = os.path.splitext(filename)\n",
    "    \n",
    "    # Load the raw data\n",
    "    raw = mne.io.read_raw_edf(file, montage=chanlocs, preload=True, stim_channel=-1,\n",
    "                              eog=[u'EXG1', u'EXG2'], \n",
    "                              exclude=[u'EXG3', u'EXG4', u'EXG5', u'EXG6', u'EXG7', u'EXG8']) \n",
    "    picks = mne.pick_types(raw.info, eeg=True, eog=False)\n",
    "    \n",
    "    # Filter and re-reference the data\n",
    "    raw.filter(0.1, 50) \n",
    "    raw.set_eeg_reference(ref_channels='average', projection=False) \n",
    "    \n",
    "    # Save the results\n",
    "    raw.save('./raw/' + filename + '-raw.fif', overwrite=True)\n",
    "    \n",
    "    # Specify ICA settings\n",
    "    n_components = 25 \n",
    "    method = 'extended-infomax'\n",
    "    reject = dict(eeg=200e-6)\n",
    "    \n",
    "    # Perform ICA and save the results\n",
    "    ica = ICA(n_components=n_components, method=method)\n",
    "    ica.fit(raw.copy().filter(1,50), picks=picks, reject=None) \n",
    "    ica.save('./ica/' + filename + '-ica.fif')"
   ]
  },
  {
   "cell_type": "code",
   "execution_count": null,
   "metadata": {},
   "outputs": [],
   "source": [
    "%%capture\n",
    "# Load each subject's ICA solution and raw data file\n",
    "ica = mne.preprocessing.read_ica('./ica/*-ica.fif')\n",
    "raw = mne.io.read_raw_fif('./raw/*-raw.fif', preload=True)\n",
    "\n",
    "# Investigate the components and pick the ones\n",
    "# representing artifacts\n",
    "ica.plot_components()\n",
    "ica.plot_properties(raw, picks=[])\n",
    "ica.apply(raw, exclude=[0,1,2,4,6,10,11,13,17,18,19,20,21,22,23])\n",
    "raw.save('./raw/*_ICA-raw.fif', overwrite=True)"
   ]
  }
 ],
 "metadata": {
  "kernelspec": {
   "display_name": "Python 3",
   "language": "python",
   "name": "python3"
  },
  "language_info": {
   "codemirror_mode": {
    "name": "ipython",
    "version": 3
   },
   "file_extension": ".py",
   "mimetype": "text/x-python",
   "name": "python",
   "nbconvert_exporter": "python",
   "pygments_lexer": "ipython3",
   "version": "3.6.5"
  }
 },
 "nbformat": 4,
 "nbformat_minor": 2
}
